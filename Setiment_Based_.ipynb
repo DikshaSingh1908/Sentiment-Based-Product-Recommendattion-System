{
 "cells": [
  {
   "cell_type": "markdown",
   "metadata": {},
   "source": [
    "# Reading and Understanding Data"
   ]
  },
  {
   "cell_type": "code",
   "execution_count": null,
   "metadata": {
    "id": "9GBPJrVNWNFH"
   },
   "outputs": [],
   "source": [
    "import pandas as pd\n",
    "import numpy as np\n",
    "import matplotlib.pyplot as plt\n",
    "import seaborn as sns\n",
    "\n",
    "from sklearn.model_selection import train_test_split,cross_val_score, StratifiedKFold, GridSearchCV, RandomizedSearchCV\n",
    "from sklearn.linear_model import LogisticRegression\n",
    "from xgboost import XGBClassifier\n",
    "from sklearn.naive_bayes import MultinomialNB\n",
    "\n",
    "from sklearn.metrics import accuracy_score, f1_score, precision_score, recall_score\n",
    "from sklearn.metrics import confusion_matrix, roc_auc_score, roc_curve, classification_report, precision_recall_curve"
   ]
  },
  {
   "cell_type": "code",
   "execution_count": null,
   "metadata": {
    "colab": {
     "base_uri": "https://localhost:8080/",
     "height": 567
    },
    "id": "Wm3lrN8NTyAb",
    "outputId": "5187e192-de89-46c9-9908-b9e8e7142d92"
   },
   "outputs": [],
   "source": [
    "data=pd.read_csv('sample30.csv')\n",
    "data.head()"
   ]
  },
  {
   "cell_type": "code",
   "execution_count": null,
   "metadata": {
    "colab": {
     "base_uri": "https://localhost:8080/"
    },
    "id": "NsDO5c-BWtKE",
    "outputId": "43394f81-2627-4170-db94-09977fdc8bc5"
   },
   "outputs": [],
   "source": [
    "data.shape"
   ]
  },
  {
   "cell_type": "code",
   "execution_count": null,
   "metadata": {
    "colab": {
     "base_uri": "https://localhost:8080/"
    },
    "id": "wTptykp6YWgp",
    "outputId": "4158b80b-a4cf-4ebb-ed58-ea1d0cff259f"
   },
   "outputs": [],
   "source": [
    "data.info()"
   ]
  },
  {
   "cell_type": "code",
   "execution_count": null,
   "metadata": {
    "colab": {
     "base_uri": "https://localhost:8080/",
     "height": 287
    },
    "id": "p2f0iaJMY5GF",
    "outputId": "8a36ab83-0843-4e83-ec21-af94897d032f"
   },
   "outputs": [],
   "source": [
    "data.describe()"
   ]
  },
  {
   "cell_type": "code",
   "execution_count": null,
   "metadata": {
    "colab": {
     "base_uri": "https://localhost:8080/"
    },
    "id": "vDkNcRLaY7ci",
    "outputId": "bf991d39-8a1b-4519-a55c-da53908d0546"
   },
   "outputs": [],
   "source": [
    "round(100*data.isnull().sum()/len(data),2)"
   ]
  },
  {
   "cell_type": "markdown",
   "metadata": {},
   "source": [
    "# Data Cleaning"
   ]
  },
  {
   "cell_type": "code",
   "execution_count": null,
   "metadata": {
    "colab": {
     "base_uri": "https://localhost:8080/",
     "height": 567
    },
    "id": "Yc-qauDaO_wX",
    "outputId": "fc03ed1a-da1e-41b7-ddf4-0d00e30300cf"
   },
   "outputs": [],
   "source": [
    "data=data.drop(['reviews_userProvince','reviews_userCity'],axis=1)\n",
    "data.head()"
   ]
  },
  {
   "cell_type": "code",
   "execution_count": null,
   "metadata": {
    "colab": {
     "base_uri": "https://localhost:8080/"
    },
    "id": "0eTBzDp1QJlQ",
    "outputId": "632fec39-df1c-4f80-8d8b-c1060c80b1b6"
   },
   "outputs": [],
   "source": [
    "round(100*data.isnull().sum()/len(data),2)"
   ]
  },
  {
   "cell_type": "code",
   "execution_count": null,
   "metadata": {
    "id": "gsdEzS6XybuO"
   },
   "outputs": [],
   "source": [
    "data['manufacturer']=data['manufacturer'].replace(np.nan,'Other')\n",
    "data['reviews_date']=data['reviews_date'].replace(np.nan,'Other')\n",
    "data['reviews_didPurchase']=data['reviews_didPurchase'].replace(np.nan,'Unknown')\n",
    "data['reviews_title']=data['reviews_title'].replace(np.nan,'No Title')\n",
    "data['reviews_username']=data['reviews_username'].replace(np.nan,'No username')"
   ]
  },
  {
   "cell_type": "code",
   "execution_count": null,
   "metadata": {
    "colab": {
     "base_uri": "https://localhost:8080/"
    },
    "id": "2WcOSiTB0OEt",
    "outputId": "0a87310b-8eb6-490d-e66f-b73ff984884d"
   },
   "outputs": [],
   "source": [
    "round(100*data.isnull().sum()/len(data),2)"
   ]
  },
  {
   "cell_type": "code",
   "execution_count": null,
   "metadata": {
    "colab": {
     "base_uri": "https://localhost:8080/",
     "height": 567
    },
    "id": "fFzPQYeX0TXn",
    "outputId": "33adb082-cbbc-422d-84f7-a18970809982"
   },
   "outputs": [],
   "source": [
    "data.head()"
   ]
  },
  {
   "cell_type": "code",
   "execution_count": null,
   "metadata": {
    "colab": {
     "base_uri": "https://localhost:8080/"
    },
    "id": "6JosmXHA4EFI",
    "outputId": "8a550bfc-fa45-4670-cb1d-4e3b46e07cde"
   },
   "outputs": [],
   "source": [
    "#number of products\n",
    "products_count = data['reviews_rating'].groupby(data['id']).count()\n",
    "print(\"Number of Unique Products = {}\".format(products_count.count()))"
   ]
  },
  {
   "cell_type": "code",
   "execution_count": null,
   "metadata": {
    "colab": {
     "base_uri": "https://localhost:8080/"
    },
    "id": "NUrK-zL-GNY2",
    "outputId": "b1619ff3-63c7-48db-d901-976015ab5110"
   },
   "outputs": [],
   "source": [
    "# Top 20 products\n",
    "sorted_products = products_count.sort_values(ascending=False)\n",
    "\n",
    "print(\"Top 20 Reviewed Products:\\n\")\n",
    "print(sorted_products[:20], end='\\n\\n')\n",
    "print('Most Reviewed Product, AVpf3VOfilAPnD_xjpun - has {} reviews.'.format(products_count.max()))"
   ]
  },
  {
   "cell_type": "code",
   "execution_count": null,
   "metadata": {
    "colab": {
     "base_uri": "https://localhost:8080/"
    },
    "id": "USYI-FyDGxLC",
    "outputId": "b0791d8a-3257-4efa-bb8d-9f8542b88019"
   },
   "outputs": [],
   "source": [
    "print(\"Last 20 Reviewed Products:\\n\")\n",
    "print(sorted_products[251:], end='\\n\\n')\n",
    "print('Most Reviewed Product, AV13O1A8GV-KLJ3akUyj - has {} reviews.'.format(products_count.min()))"
   ]
  },
  {
   "cell_type": "code",
   "execution_count": null,
   "metadata": {
    "colab": {
     "base_uri": "https://localhost:8080/",
     "height": 584
    },
    "id": "Qh_cbiCza5r3",
    "outputId": "ee6b2622-8a47-4d83-8154-6cff586b9b89"
   },
   "outputs": [],
   "source": [
    "data['feedback']=data['reviews_title'] +' '+ data['reviews_text']\n",
    "data.head()"
   ]
  },
  {
   "cell_type": "code",
   "execution_count": null,
   "metadata": {
    "colab": {
     "base_uri": "https://localhost:8080/",
     "height": 197
    },
    "id": "QjmOVmEiOECK",
    "outputId": "6ab81782-a58a-4e90-d7c0-504cbcce6777"
   },
   "outputs": [],
   "source": [
    "data1=data[['id','name','feedback','reviews_doRecommend','user_sentiment','reviews_rating','reviews_username']]\n",
    "data1.head()"
   ]
  },
  {
   "cell_type": "code",
   "execution_count": null,
   "metadata": {
    "colab": {
     "base_uri": "https://localhost:8080/"
    },
    "id": "CuASq13wX216",
    "outputId": "8b230b07-fe40-49e2-ad61-e342b46ae672"
   },
   "outputs": [],
   "source": [
    "data1.dropna(inplace=True)\n",
    "data1.isnull().sum()"
   ]
  },
  {
   "cell_type": "code",
   "execution_count": null,
   "metadata": {
    "colab": {
     "base_uri": "https://localhost:8080/"
    },
    "id": "YPKDKG9UYEy4",
    "outputId": "90d033cd-f2da-4d2a-fd44-e592fbd17f89"
   },
   "outputs": [],
   "source": [
    "data1.shape"
   ]
  },
  {
   "cell_type": "code",
   "execution_count": null,
   "metadata": {
    "colab": {
     "base_uri": "https://localhost:8080/"
    },
    "id": "vFaB4O_EYC8a",
    "outputId": "22d08622-a690-4e48-f02f-3ac76825468e"
   },
   "outputs": [],
   "source": [
    "data1=data1.groupby('name').filter(lambda x:len(x)>250).reset_index(drop=True)\n",
    "print('Number of products=>',len(data1['name'].unique()))"
   ]
  },
  {
   "cell_type": "code",
   "execution_count": null,
   "metadata": {
    "id": "POKZVzs5Yp6s"
   },
   "outputs": [],
   "source": [
    "data1['reviews_doRecommend']=data1['reviews_doRecommend'].astype(int)"
   ]
  },
  {
   "cell_type": "code",
   "execution_count": null,
   "metadata": {
    "colab": {
     "base_uri": "https://localhost:8080/",
     "height": 281
    },
    "id": "7HjgfO88Y_G-",
    "outputId": "80b8323e-4318-4170-ec02-fd10e39eac82"
   },
   "outputs": [],
   "source": [
    "data1.head()"
   ]
  },
  {
   "cell_type": "markdown",
   "metadata": {},
   "source": [
    "# Data Unbalanced"
   ]
  },
  {
   "cell_type": "code",
   "execution_count": null,
   "metadata": {
    "colab": {
     "base_uri": "https://localhost:8080/",
     "height": 546
    },
    "id": "eW_aNJq0ZDrq",
    "outputId": "95ac5283-2f81-4e71-a9eb-17af414d3059"
   },
   "outputs": [],
   "source": [
    "sns.factorplot(x=\"user_sentiment\", data=data1, kind=\"count\", size=6, aspect=1.5, palette=\"PuBuGn_d\")\n",
    "plt.show()"
   ]
  },
  {
   "cell_type": "markdown",
   "metadata": {},
   "source": [
    "# Text Preprocessing"
   ]
  },
  {
   "cell_type": "code",
   "execution_count": null,
   "metadata": {
    "colab": {
     "base_uri": "https://localhost:8080/",
     "height": 124
    },
    "id": "27kc6BUYjIEb",
    "outputId": "8e221cb8-8289-4c4f-fd95-7d8e16246933"
   },
   "outputs": [],
   "source": [
    "' '.join(data1['feedback'].tolist())"
   ]
  },
  {
   "cell_type": "code",
   "execution_count": null,
   "metadata": {
    "id": "9CsbBG2emVK1"
   },
   "outputs": [],
   "source": [
    "contractions={\"ain't\": \"are not\",\"'s\":\" is\",\"aren't\": \"are not\",\n",
    "                     \"can't\": \"cannot\",\"can't've\": \"cannot have\",\n",
    "                     \"'cause\": \"because\",\"could've\": \"could have\",\"couldn't\": \"could not\",\n",
    "                     \"couldn't've\": \"could not have\", \"didn't\": \"did not\",\"doesn't\": \"does not\",\n",
    "                     \"don't\": \"do not\",\"hadn't\": \"had not\",\"hadn't've\": \"had not have\",\n",
    "                     \"hasn't\": \"has not\",\"haven't\": \"have not\",\"he'd\": \"he would\",\n",
    "                     \"he'd've\": \"he would have\",\"he'll\": \"he will\", \"he'll've\": \"he will have\",\n",
    "                     \"how'd\": \"how did\",\"how'd'y\": \"how do you\",\"how'll\": \"how will\",\n",
    "                     \"I'd\": \"I would\", \"I'd've\": \"I would have\",\"I'll\": \"I will\",\n",
    "                     \"I'll've\": \"I will have\",\"I'm\": \"I am\",\"I've\": \"I have\", \"isn't\": \"is not\",\n",
    "                     \"it'd\": \"it would\",\"it'd've\": \"it would have\",\"it'll\": \"it will\",\n",
    "                     \"it'll've\": \"it will have\", \"let's\": \"let us\",\"ma'am\": \"madam\",\n",
    "                     \"mayn't\": \"may not\",\"might've\": \"might have\",\"mightn't\": \"might not\", \n",
    "                     \"mightn't've\": \"might not have\",\"must've\": \"must have\",\"mustn't\": \"must not\",\n",
    "                     \"mustn't've\": \"must not have\", \"needn't\": \"need not\",\n",
    "                     \"needn't've\": \"need not have\",\"o'clock\": \"of the clock\",\"oughtn't\": \"ought not\",\n",
    "                     \"oughtn't've\": \"ought not have\",\"shan't\": \"shall not\",\"sha'n't\": \"shall not\",\n",
    "                     \"shan't've\": \"shall not have\",\"she'd\": \"she would\",\"she'd've\": \"she would have\",\n",
    "                     \"she'll\": \"she will\", \"she'll've\": \"she will have\",\"should've\": \"should have\",\n",
    "                     \"shouldn't\": \"should not\", \"shouldn't've\": \"should not have\",\"so've\": \"so have\",\n",
    "                     \"that'd\": \"that would\",\"that'd've\": \"that would have\", \"there'd\": \"there would\",\n",
    "                     \"there'd've\": \"there would have\", \"they'd\": \"they would\",\n",
    "                     \"they'd've\": \"they would have\",\"they'll\": \"they will\",\n",
    "                     \"they'll've\": \"they will have\", \"they're\": \"they are\",\"they've\": \"they have\",\n",
    "                     \"to've\": \"to have\",\"wasn't\": \"was not\",\"we'd\": \"we would\",\n",
    "                     \"we'd've\": \"we would have\",\"we'll\": \"we will\",\"we'll've\": \"we will have\",\n",
    "                     \"we're\": \"we are\",\"we've\": \"we have\", \"weren't\": \"were not\",\"what'll\": \"what will\",\n",
    "                     \"what'll've\": \"what will have\",\"what're\": \"what are\", \"what've\": \"what have\",\n",
    "                     \"when've\": \"when have\",\"where'd\": \"where did\", \"where've\": \"where have\",\n",
    "                     \"who'll\": \"who will\",\"who'll've\": \"who will have\",\"who've\": \"who have\",\n",
    "                     \"why've\": \"why have\",\"will've\": \"will have\",\"won't\": \"will not\",\n",
    "                     \"won't've\": \"will not have\", \"would've\": \"would have\",\"wouldn't\": \"would not\",\n",
    "                     \"wouldn't've\": \"would not have\",\"y'all\": \"you all\", \"y'all'd\": \"you all would\",\n",
    "                     \"y'all'd've\": \"you all would have\",\"y'all're\": \"you all are\",\n",
    "                     \"y'all've\": \"you all have\", \"you'd\": \"you would\",\"you'd've\": \"you would have\",\n",
    "                     \"you'll\": \"you will\",\"you'll've\": \"you will have\", \"you're\": \"you are\",\n",
    "                     \"you've\": \"you have\"}"
   ]
  },
  {
   "cell_type": "code",
   "execution_count": null,
   "metadata": {
    "id": "a9PY1kZMs0qy"
   },
   "outputs": [],
   "source": [
    "def con_to_exp(x):\n",
    "  if type(x) is str:\n",
    "    x=x.replace('\\\\','')\n",
    "    for key in contractions:\n",
    "      value = contractions[key]\n",
    "      x=x.replace(key,value)\n",
    "    return x\n",
    "  else:\n",
    "    return x  "
   ]
  },
  {
   "cell_type": "code",
   "execution_count": null,
   "metadata": {
    "colab": {
     "base_uri": "https://localhost:8080/"
    },
    "id": "02huUyymuNP1",
    "outputId": "0f122107-60a3-41d2-94ef-1f6bff3d8917"
   },
   "outputs": [],
   "source": [
    "%%time\n",
    "data1['feedback']=data1['feedback'].apply(lambda x: con_to_exp(x))"
   ]
  },
  {
   "cell_type": "code",
   "execution_count": null,
   "metadata": {
    "colab": {
     "base_uri": "https://localhost:8080/",
     "height": 281
    },
    "id": "HeUU3M1avMwF",
    "outputId": "1462c082-f8c5-44a3-a1d0-bf7e634d0c58"
   },
   "outputs": [],
   "source": [
    "data1.head()"
   ]
  },
  {
   "cell_type": "code",
   "execution_count": null,
   "metadata": {
    "id": "hcQ_2hTry0Qh"
   },
   "outputs": [],
   "source": [
    "data1['feedback_lower']=data1['feedback'].str.lower()"
   ]
  },
  {
   "cell_type": "code",
   "execution_count": null,
   "metadata": {
    "id": "28b59tK8y-GI"
   },
   "outputs": [],
   "source": [
    "import string\n",
    "Remove_to_punctuation=string.punctuation"
   ]
  },
  {
   "cell_type": "code",
   "execution_count": null,
   "metadata": {
    "id": "uYWIJsaJzbID"
   },
   "outputs": [],
   "source": [
    "def remove_punctuation(text):\n",
    "  return text.translate(str.maketrans('','',Remove_to_punctuation))\n",
    "\n",
    "data1['text_wo_punc']=data1['feedback_lower'].apply(lambda x: remove_punctuation(x))"
   ]
  },
  {
   "cell_type": "code",
   "execution_count": null,
   "metadata": {
    "colab": {
     "base_uri": "https://localhost:8080/",
     "height": 464
    },
    "id": "he8nK3vi1LJ0",
    "outputId": "83cd2c76-dea0-4eac-800b-d0cef8cd9f71"
   },
   "outputs": [],
   "source": [
    "data1.head()"
   ]
  },
  {
   "cell_type": "code",
   "execution_count": null,
   "metadata": {
    "id": "hY-2zdOe1XGr"
   },
   "outputs": [],
   "source": [
    "data1=data1.drop('feedback_lower',axis=1)"
   ]
  },
  {
   "cell_type": "code",
   "execution_count": null,
   "metadata": {
    "colab": {
     "base_uri": "https://localhost:8080/"
    },
    "id": "4EqAo8A61loe",
    "outputId": "30dc9bff-cab2-4acf-bebc-a0c4a90adebd"
   },
   "outputs": [],
   "source": [
    "import nltk\n",
    "nltk.download('stopwords')\n",
    "from nltk.corpus import stopwords\n",
    "stpwrd=set(stopwords.words('english'))\n",
    "\n",
    "def remove_stopwords(text):\n",
    "  return \" \".join([word for word in str(text).split() if word not in stpwrd])\n",
    "\n",
    "data1['text_wo_sw']=data1['text_wo_punc'].apply(lambda x: remove_stopwords(x))"
   ]
  },
  {
   "cell_type": "code",
   "execution_count": null,
   "metadata": {
    "colab": {
     "base_uri": "https://localhost:8080/",
     "height": 634
    },
    "id": "AzMh5zHI90bN",
    "outputId": "b11a8bd8-5e0b-4887-b072-99bb910877fb"
   },
   "outputs": [],
   "source": [
    "data1.head()"
   ]
  },
  {
   "cell_type": "code",
   "execution_count": null,
   "metadata": {
    "colab": {
     "base_uri": "https://localhost:8080/",
     "height": 514
    },
    "id": "ki7jbdzSEJqm",
    "outputId": "62b06649-1e3e-481b-a6fe-c1dc91ea451e"
   },
   "outputs": [],
   "source": [
    "data1=data1.drop('text_wo_punc',axis=1)\n",
    "data1.head()"
   ]
  },
  {
   "cell_type": "code",
   "execution_count": null,
   "metadata": {
    "colab": {
     "base_uri": "https://localhost:8080/"
    },
    "id": "265HzxMKE5fx",
    "outputId": "d25670c9-b0d5-41e1-bf85-d3cab5402d6b"
   },
   "outputs": [],
   "source": [
    "from collections import Counter\n",
    "count= Counter()\n",
    "for text in data1['text_wo_sw'].values:\n",
    "  for word in text.split():\n",
    "    count[word] += 1\n",
    "\n",
    "count.most_common(10)"
   ]
  },
  {
   "cell_type": "code",
   "execution_count": null,
   "metadata": {
    "colab": {
     "base_uri": "https://localhost:8080/",
     "height": 634
    },
    "id": "v6Xe3dQXJBQ9",
    "outputId": "84be50eb-71b1-4b27-b23d-eeeb54e10888"
   },
   "outputs": [],
   "source": [
    "Freqwords=set([w for (w,wc) in count.most_common(10)  ])\n",
    "def remove_frequentwords(text):\n",
    "  return \" \".join([word for word in str(text).split() if word not in Freqwords])\n",
    "\n",
    "\n",
    "data1['text_wo_Freq_sw']=data1['text_wo_sw'].apply(lambda x: remove_frequentwords(x))\n",
    "data1['text_wo_Freq_sw'] = data1['text_wo_Freq_sw'].str.replace(r'[^A-Za-z0-9 ]+', ' ')\n",
    "data1.head()"
   ]
  },
  {
   "cell_type": "markdown",
   "metadata": {},
   "source": [
    "# stemming"
   ]
  },
  {
   "cell_type": "code",
   "execution_count": null,
   "metadata": {
    "colab": {
     "base_uri": "https://localhost:8080/",
     "height": 634
    },
    "id": "oc9SJ8cwAXnz",
    "outputId": "27ac7ac1-ea5e-4ee2-9a22-66a61a2ef4f9"
   },
   "outputs": [],
   "source": [
    "from nltk.stem.porter import PorterStemmer\n",
    "stemmer = PorterStemmer()\n",
    "def stem_word(text):\n",
    "  return \" \".join([stemmer.stem(word) for word in text.split()])\n",
    "\n",
    "\n",
    "data1['stem_text']=data1['text_wo_Freq_sw'].apply(lambda x: stem_word(x))\n",
    "data1.head()"
   ]
  },
  {
   "cell_type": "markdown",
   "metadata": {},
   "source": [
    "# Lemmetization"
   ]
  },
  {
   "cell_type": "code",
   "execution_count": null,
   "metadata": {
    "colab": {
     "base_uri": "https://localhost:8080/"
    },
    "id": "0_22O0DBUJ5u",
    "outputId": "c139e0ba-3234-4a0f-ee8e-9dd4d7231478"
   },
   "outputs": [],
   "source": [
    "import nltk\n",
    "nltk.download('punkt')\n",
    "nltk.download('wordnet')\n",
    "nltk.download('averaged_perceptron_tagger')\n",
    "from nltk.stem import WordNetLemmatizer\n",
    "from nltk.tokenize import word_tokenize\n",
    "from nltk.corpus import wordnet\n",
    "\n",
    "lemmatizer = WordNetLemmatizer()\n",
    "\n",
    "def nltk_tag_to_wordnet_tag(nltk_tag):\n",
    "    if nltk_tag.startswith('J'):\n",
    "        return wordnet.ADJ\n",
    "    elif nltk_tag.startswith('V'):\n",
    "        return wordnet.VERB\n",
    "    elif nltk_tag.startswith('N'):\n",
    "        return wordnet.NOUN\n",
    "    elif nltk_tag.startswith('R'):\n",
    "        return wordnet.ADV\n",
    "    else:          \n",
    "        return None\n",
    "def lemma_word(text):\n",
    "  nltk_tagged = nltk.pos_tag(nltk.word_tokenize(text))\n",
    "  wordnet_tagged = map(lambda x: (x[0], nltk_tag_to_wordnet_tag(x[1])), nltk_tagged)\n",
    "  lemmatized_sentence = []\n",
    "  for word, tag in wordnet_tagged:\n",
    "    if tag is None:\n",
    "            #if there is no available tag, append the token as is\n",
    "            lemmatized_sentence.append(word)\n",
    "    else:        \n",
    "            #else use the tag to lemmatize the token\n",
    "           lemmatized_sentence.append(lemmatizer.lemmatize(word, tag))\n",
    "  return \" \".join(lemmatized_sentence)\n",
    "  #return \" \".join([wordnet_lemmatizer.lemmatize(word) for  word in text.split()])\n",
    "\n",
    "\n",
    "data1['lemma_text']=data1['text_wo_Freq_sw'].apply(lambda x: lemma_word(x))"
   ]
  },
  {
   "cell_type": "code",
   "execution_count": null,
   "metadata": {
    "colab": {
     "base_uri": "https://localhost:8080/",
     "height": 634
    },
    "id": "sSNN4JdrXN3j",
    "outputId": "49f2dae3-060c-4f76-9a3f-f29870d1eda2"
   },
   "outputs": [],
   "source": [
    "data1.head()"
   ]
  },
  {
   "cell_type": "code",
   "execution_count": null,
   "metadata": {
    "id": "v-aGpy_q0yho"
   },
   "outputs": [],
   "source": [
    "data1['user_sentiment']=data1['user_sentiment'].map({'Positive':1,'Negative':0})"
   ]
  },
  {
   "cell_type": "code",
   "execution_count": null,
   "metadata": {
    "colab": {
     "base_uri": "https://localhost:8080/",
     "height": 634
    },
    "id": "krDym925udsZ",
    "outputId": "465c27ce-0ab0-47e2-cbba-753d39787fc9"
   },
   "outputs": [],
   "source": [
    "data1.head()"
   ]
  },
  {
   "cell_type": "code",
   "execution_count": null,
   "metadata": {
    "colab": {
     "base_uri": "https://localhost:8080/",
     "height": 634
    },
    "id": "Xnmct8rB9BzJ",
    "outputId": "b0a0f32a-d983-4f46-e0fc-f7d6a0d200f3"
   },
   "outputs": [],
   "source": [
    "#changing the name of the column\n",
    "data1=data1.rename(columns={'lemma_text':'Final_text'})\n",
    "data1.head()"
   ]
  },
  {
   "cell_type": "code",
   "execution_count": null,
   "metadata": {
    "colab": {
     "base_uri": "https://localhost:8080/",
     "height": 481
    },
    "id": "xcofFT7A9voL",
    "outputId": "945c06dd-247c-4d02-d401-d67aa58c87db"
   },
   "outputs": [],
   "source": [
    "data1=data1.drop(['stem_text','text_wo_Freq_sw','text_wo_Freq_sw','text_wo_sw','feedback'],axis=1)\n",
    "data1.head()"
   ]
  },
  {
   "cell_type": "markdown",
   "metadata": {},
   "source": [
    "# Model Building"
   ]
  },
  {
   "cell_type": "code",
   "execution_count": null,
   "metadata": {
    "id": "HOfa8hGp6bj2"
   },
   "outputs": [],
   "source": [
    "# Splitting the Data Set into Train and Test Sets\n",
    "X = data1['Final_text']\n",
    "y = data1['user_sentiment']"
   ]
  },
  {
   "cell_type": "code",
   "execution_count": null,
   "metadata": {
    "id": "dE7q06l-6n3e"
   },
   "outputs": [],
   "source": [
    "X_train, X_test, y_train, y_test = train_test_split(X, y, test_size=0.20, random_state=42)"
   ]
  },
  {
   "cell_type": "code",
   "execution_count": null,
   "metadata": {
    "colab": {
     "base_uri": "https://localhost:8080/"
    },
    "id": "VXEDnHv_62GS",
    "outputId": "10f496b9-1e11-4050-ea7c-c87a6e684693"
   },
   "outputs": [],
   "source": [
    "# Print train and test set shape\n",
    "print ('Train Set Shape\\t\\t:{}\\nTest Set Shape\\t\\t:{}'.format(X_train.shape, X_test.shape))"
   ]
  },
  {
   "cell_type": "markdown",
   "metadata": {
    "id": "45V4Oqf8J7bK"
   },
   "source": [
    "TF-IDF"
   ]
  },
  {
   "cell_type": "code",
   "execution_count": null,
   "metadata": {
    "id": "GgRNsn59KEl2"
   },
   "outputs": [],
   "source": [
    "# Create the word vector with TF-IDF Vectorizer\n",
    "from sklearn.feature_extraction.text import TfidfVectorizer, CountVectorizer, HashingVectorizer\n",
    "tfidf_vect = TfidfVectorizer(ngram_range=(1, 1))\n",
    "tfidf_vect_train = tfidf_vect.fit_transform(X_train)\n",
    "tfidf_vect_train = tfidf_vect_train.toarray()\n",
    "tfidf_vect_test = tfidf_vect.transform(X_test)\n",
    "tfidf_vect_test = tfidf_vect_test.toarray()"
   ]
  },
  {
   "cell_type": "markdown",
   "metadata": {
    "id": "FoU1RYdwMZBg"
   },
   "source": [
    "Logistic Regression Model without oversamping"
   ]
  },
  {
   "cell_type": "code",
   "execution_count": null,
   "metadata": {
    "id": "uw-S5NjZL7mb"
   },
   "outputs": [],
   "source": [
    "model = list()\n",
    "resample = list()\n",
    "precision = list()\n",
    "recall = list()\n",
    "F1score = list()\n",
    "AUCROC = list()"
   ]
  },
  {
   "cell_type": "code",
   "execution_count": null,
   "metadata": {
    "id": "erUQy_eONCSL"
   },
   "outputs": [],
   "source": [
    "def test_eval(clf_model, X_test, y_test, algo=None, sampling=None):\n",
    "    # Test set prediction\n",
    "    y_prob=clf_model.predict_proba(X_test)\n",
    "    y_pred=clf_model.predict(X_test)\n",
    "\n",
    "    print('Confusion Matrix')\n",
    "    print('='*60)\n",
    "    print(confusion_matrix(y_test,y_pred),\"\\n\")\n",
    "    print('Classification Report')\n",
    "    print('='*60)\n",
    "    print(classification_report(y_test,y_pred),\"\\n\")\n",
    "    print('AUC-ROC')\n",
    "    print('='*60)\n",
    "    print(roc_auc_score(y_test, y_prob[:,1]))\n",
    "          \n",
    "    model.append(algo)\n",
    "    precision.append(precision_score(y_test,y_pred))\n",
    "    recall.append(recall_score(y_test,y_pred))\n",
    "    F1score.append(f1_score(y_test,y_pred))\n",
    "    AUCROC.append(roc_auc_score(y_test, y_prob[:,1]))\n",
    "    resample.append(sampling)"
   ]
  },
  {
   "cell_type": "code",
   "execution_count": null,
   "metadata": {
    "colab": {
     "base_uri": "https://localhost:8080/"
    },
    "id": "pTl7Npz7RxwS",
    "outputId": "a3809724-9f41-43c3-f6f2-08234b450766"
   },
   "outputs": [],
   "source": [
    "### Setting up the model class\n",
    "lr_model_tf_idf = LogisticRegression()\n",
    "\n",
    "## Training the model \n",
    "lr_model_tf_idf.fit(tfidf_vect_train,y_train)\n",
    "\n",
    "## Prediciting the results\n",
    "test_pred_lr_all = lr_model_tf_idf.predict(tfidf_vect_test)\n",
    "\n",
    "## Evaluating the model\n",
    "print(\"F1 score: \",f1_score(y_test, test_pred_lr_all))"
   ]
  },
  {
   "cell_type": "code",
   "execution_count": null,
   "metadata": {
    "colab": {
     "base_uri": "https://localhost:8080/"
    },
    "id": "7mmCwmrJNrNQ",
    "outputId": "394e84de-0204-4d82-e1eb-fc8921870eb7"
   },
   "outputs": [],
   "source": [
    "test_eval(lr_model_tf_idf, tfidf_vect_test, y_test, 'Logistic Regression', 'actual')"
   ]
  },
  {
   "cell_type": "markdown",
   "metadata": {
    "id": "No9njAyffGIU"
   },
   "source": [
    "Logistic Regression with SMOTE"
   ]
  },
  {
   "cell_type": "code",
   "execution_count": null,
   "metadata": {
    "colab": {
     "base_uri": "https://localhost:8080/"
    },
    "id": "uBJWQoEnO0jf",
    "outputId": "38d20551-5f15-46cf-d0c2-35ccfee67be6"
   },
   "outputs": [],
   "source": [
    "from imblearn.over_sampling import SMOTE\n",
    "from collections import Counter\n",
    "\n",
    "counter = Counter(y_train)\n",
    "print('Before',counter)\n",
    "# oversampling the train dataset using SMOTE\n",
    "smt = SMOTE()\n",
    "#X_train, y_train = smt.fit_resample(X_train, y_train)\n",
    "X_train_sm, y_train_sm = smt.fit_resample(tfidf_vect_train, y_train)\n",
    "\n",
    "counter = Counter(y_train_sm)\n",
    "print('After',counter)"
   ]
  },
  {
   "cell_type": "code",
   "execution_count": null,
   "metadata": {
    "colab": {
     "base_uri": "https://localhost:8080/"
    },
    "id": "ytn1sQbeg-D0",
    "outputId": "9083d52e-71cd-49f4-e2ca-53098be638f8"
   },
   "outputs": [],
   "source": [
    "lr_model_tf_idf.fit(X_train_sm, y_train_sm)"
   ]
  },
  {
   "cell_type": "code",
   "execution_count": null,
   "metadata": {
    "colab": {
     "base_uri": "https://localhost:8080/"
    },
    "id": "lScx4KPwhPwg",
    "outputId": "97a5827c-10ce-4505-f91c-7b99c667e679"
   },
   "outputs": [],
   "source": [
    "test_eval(lr_model_tf_idf, tfidf_vect_test, y_test, 'Logistic Regression', 'smote')"
   ]
  },
  {
   "cell_type": "markdown",
   "metadata": {
    "id": "5q3akgtrmB_g"
   },
   "source": [
    "XGBoost without Sampling"
   ]
  },
  {
   "cell_type": "code",
   "execution_count": null,
   "metadata": {
    "colab": {
     "base_uri": "https://localhost:8080/"
    },
    "id": "hGiEIKAIj8MG",
    "outputId": "c78ae257-fcdc-4fae-a02e-5ba095d27649"
   },
   "outputs": [],
   "source": [
    "NB_tf_idf= MultinomialNB()\n",
    "NB_tf_idf.fit(tfidf_vect_train,y_train)\n",
    "\n",
    "test_pred_NB = NB_tf_idf.predict(tfidf_vect_test)\n",
    "\n",
    "## Evaluating the model\n",
    "print(\"F1 score: \",f1_score(y_test, test_pred_NB))"
   ]
  },
  {
   "cell_type": "code",
   "execution_count": null,
   "metadata": {
    "colab": {
     "base_uri": "https://localhost:8080/"
    },
    "id": "UfjBo6VynBzh",
    "outputId": "cdd61d7e-648f-45a6-b502-582915750afc"
   },
   "outputs": [],
   "source": [
    "test_eval(NB_tf_idf, tfidf_vect_test, y_test, 'Naive Bayes', 'actual')"
   ]
  },
  {
   "cell_type": "code",
   "execution_count": null,
   "metadata": {
    "colab": {
     "base_uri": "https://localhost:8080/"
    },
    "id": "0WAUJBGx2VFf",
    "outputId": "178c7a75-4a9a-406c-f572-7754c15fdbf6"
   },
   "outputs": [],
   "source": [
    "NB_tf_idf.fit(X_train_sm,y_train_sm)"
   ]
  },
  {
   "cell_type": "code",
   "execution_count": null,
   "metadata": {
    "colab": {
     "base_uri": "https://localhost:8080/"
    },
    "id": "dszfyTfl3efD",
    "outputId": "32e54982-a8dd-4a6d-c9b1-4171c88db657"
   },
   "outputs": [],
   "source": [
    "test_eval(NB_tf_idf, tfidf_vect_test, y_test, 'Naive Bayes', 'smote')"
   ]
  },
  {
   "cell_type": "code",
   "execution_count": null,
   "metadata": {
    "colab": {
     "base_uri": "https://localhost:8080/"
    },
    "id": "7C5D4rBi3m2x",
    "outputId": "0dbb9e11-eb3d-41d0-ee9f-c51fe34248e1"
   },
   "outputs": [],
   "source": [
    "from sklearn.ensemble import RandomForestClassifier\n",
    "### Setting up the model class\n",
    "rf_model_tf_idf = RandomForestClassifier()\n",
    "\n",
    "## Training the model \n",
    "rf_model_tf_idf.fit(tfidf_vect_train,y_train)\n",
    "\n",
    "## Prediciting the results\n",
    "test_pred_rf = rf_model_tf_idf.predict(tfidf_vect_test)\n",
    "\n",
    "## Evaluating the model\n",
    "print(\"F1 score: \",f1_score(y_test, test_pred_rf))"
   ]
  },
  {
   "cell_type": "code",
   "execution_count": null,
   "metadata": {
    "colab": {
     "base_uri": "https://localhost:8080/"
    },
    "id": "aH8CbFcc31Ye",
    "outputId": "7e4a9bce-d478-42f7-acae-bfad9c44dd9f"
   },
   "outputs": [],
   "source": [
    "test_eval(rf_model_tf_idf, tfidf_vect_test, y_test, 'Random Forest', 'actual')"
   ]
  },
  {
   "cell_type": "code",
   "execution_count": null,
   "metadata": {
    "colab": {
     "base_uri": "https://localhost:8080/"
    },
    "id": "0yvxFdldG0gb",
    "outputId": "a83a75ae-5f68-4da2-8a8a-ef4268afae48"
   },
   "outputs": [],
   "source": [
    "rf_model_tf_idf.fit(X_train_sm,y_train_sm)"
   ]
  },
  {
   "cell_type": "code",
   "execution_count": null,
   "metadata": {
    "colab": {
     "base_uri": "https://localhost:8080/"
    },
    "id": "HAa-Xf0PHlM9",
    "outputId": "65cd3e83-a3b1-428b-f7d5-4107c71afb1e"
   },
   "outputs": [],
   "source": [
    "test_eval(rf_model_tf_idf, tfidf_vect_test, y_test, 'Random Forest', 'smote')"
   ]
  },
  {
   "cell_type": "code",
   "execution_count": null,
   "metadata": {
    "id": "3nTAFY8IJjg9"
   },
   "outputs": [],
   "source": [
    "clf_eval_df = pd.DataFrame({'model':model,\n",
    "                            'resample':resample,\n",
    "                            'precision':precision,\n",
    "                            'recall':recall,\n",
    "                            'f1-score':F1score,\n",
    "                            'AUC-ROC':AUCROC})"
   ]
  },
  {
   "cell_type": "code",
   "execution_count": null,
   "metadata": {
    "colab": {
     "base_uri": "https://localhost:8080/",
     "height": 227
    },
    "id": "XrZ94loILYRJ",
    "outputId": "6d339944-3e9e-4961-cde8-13dcc1cf21e1"
   },
   "outputs": [],
   "source": [
    "clf_eval_df"
   ]
  },
  {
   "cell_type": "code",
   "execution_count": null,
   "metadata": {
    "colab": {
     "base_uri": "https://localhost:8080/",
     "height": 481
    },
    "id": "FbsEgJIeLgYF",
    "outputId": "d48358ce-a86b-49df-c66c-68e29f2d4b08"
   },
   "outputs": [],
   "source": [
    "data1.head()"
   ]
  },
  {
   "cell_type": "markdown",
   "metadata": {
    "id": "4mT6g3RDzeXU"
   },
   "source": [
    "Recommendation Engine"
   ]
  },
  {
   "cell_type": "code",
   "execution_count": null,
   "metadata": {
    "colab": {
     "base_uri": "https://localhost:8080/",
     "height": 197
    },
    "id": "rmoroFUruTTK",
    "outputId": "c0ff45e3-a9d2-4957-c67b-36b23bd381be"
   },
   "outputs": [],
   "source": [
    "# we are creating second dataframe for recommendation Engine\n",
    "data2=data1[['name','reviews_rating','reviews_username']]\n",
    "data2.head()"
   ]
  },
  {
   "cell_type": "code",
   "execution_count": null,
   "metadata": {
    "colab": {
     "base_uri": "https://localhost:8080/"
    },
    "id": "3cFsNy4PyD5w",
    "outputId": "e6e028c2-db14-4d28-b5ca-2ca9c61eceb0"
   },
   "outputs": [],
   "source": [
    "data2['reviews_rating'].describe()"
   ]
  },
  {
   "cell_type": "markdown",
   "metadata": {
    "id": "cfPT_ssGz5IV"
   },
   "source": [
    "So Ratings are from 1 to 5"
   ]
  },
  {
   "cell_type": "code",
   "execution_count": null,
   "metadata": {
    "colab": {
     "base_uri": "https://localhost:8080/"
    },
    "id": "jy-tVMRsz8p_",
    "outputId": "71b4b148-85b1-4c9f-8cd2-21a97abce592"
   },
   "outputs": [],
   "source": [
    "data2.shape"
   ]
  },
  {
   "cell_type": "code",
   "execution_count": null,
   "metadata": {
    "colab": {
     "base_uri": "https://localhost:8080/"
    },
    "id": "ykcT6CS90AqQ",
    "outputId": "02c8d28b-8541-4b9c-e7ff-77ae76876861"
   },
   "outputs": [],
   "source": [
    "data2 = data2.groupby('name').filter(lambda x: len(x)>=500)\n",
    "data2.shape"
   ]
  },
  {
   "cell_type": "code",
   "execution_count": null,
   "metadata": {
    "colab": {
     "base_uri": "https://localhost:8080/"
    },
    "id": "lsxWgYZz0a8m",
    "outputId": "0ac2ac2a-ef4b-43c8-b6f0-688383b014fb"
   },
   "outputs": [],
   "source": [
    "data2.duplicated().sum()"
   ]
  },
  {
   "cell_type": "code",
   "execution_count": null,
   "metadata": {
    "colab": {
     "base_uri": "https://localhost:8080/"
    },
    "id": "EuZYFULO0hbP",
    "outputId": "c4c81f09-e9f3-4fb2-85cb-9b3553ed316d"
   },
   "outputs": [],
   "source": [
    "## Let's remove these duplicate rows\n",
    "data2.drop_duplicates(inplace = True)\n",
    "data2.shape"
   ]
  },
  {
   "cell_type": "code",
   "execution_count": null,
   "metadata": {
    "colab": {
     "base_uri": "https://localhost:8080/",
     "height": 197
    },
    "id": "2VqXet630mnW",
    "outputId": "2a3a1235-0f64-441d-9df1-ffbeb4911cec"
   },
   "outputs": [],
   "source": [
    "data2.head()"
   ]
  },
  {
   "cell_type": "markdown",
   "metadata": {
    "id": "Ul6-uBd-0-j3"
   },
   "source": [
    "# Train Test Split in Recommendation Engine"
   ]
  },
  {
   "cell_type": "markdown",
   "metadata": {},
   "source": [
    "## USer-User Based"
   ]
  },
  {
   "cell_type": "code",
   "execution_count": null,
   "metadata": {
    "id": "ybiKwDH903Jz"
   },
   "outputs": [],
   "source": [
    "train, test = train_test_split(data2, test_size = 0.30, random_state = 30)"
   ]
  },
  {
   "cell_type": "code",
   "execution_count": null,
   "metadata": {
    "colab": {
     "base_uri": "https://localhost:8080/"
    },
    "id": "28074asd1HSp",
    "outputId": "9ef3fe21-076f-4f32-8cf1-0bca595b4bda"
   },
   "outputs": [],
   "source": [
    "print(train.shape)\n",
    "print(test.shape)"
   ]
  },
  {
   "cell_type": "code",
   "execution_count": null,
   "metadata": {
    "id": "OX4o6aBzBjf2"
   },
   "outputs": [],
   "source": [
    "df_pivot_features = train.pivot_table(\n",
    "    index='reviews_username',\n",
    "    columns='name',\n",
    "    values='reviews_rating'\n",
    ").fillna(0)"
   ]
  },
  {
   "cell_type": "code",
   "execution_count": null,
   "metadata": {
    "colab": {
     "base_uri": "https://localhost:8080/",
     "height": 311
    },
    "id": "0VSY3o8CBto2",
    "outputId": "1f6b9089-9677-4375-9570-bc55c38d4c98"
   },
   "outputs": [],
   "source": [
    "df_pivot_features.head()"
   ]
  },
  {
   "cell_type": "code",
   "execution_count": null,
   "metadata": {
    "id": "HAw7I1ZlHGVz"
   },
   "outputs": [],
   "source": [
    "# Copy the train dataset into dummy_train\n",
    "dummy_train = train.copy()\n",
    "dummy_test = test.copy()\n"
   ]
  },
  {
   "cell_type": "code",
   "execution_count": null,
   "metadata": {
    "id": "cbhJhrQ0HWoP"
   },
   "outputs": [],
   "source": [
    "dummy_train['reviews_rating'] = dummy_train['reviews_rating'].apply(lambda x: 0 if x>=1 else 1)"
   ]
  },
  {
   "cell_type": "code",
   "execution_count": null,
   "metadata": {
    "id": "JdLRbETwHfbC"
   },
   "outputs": [],
   "source": [
    "dummy_train = dummy_train.pivot_table(\n",
    "    index='reviews_username',\n",
    "    columns='name',\n",
    "    values='reviews_rating'\n",
    ").fillna(1)"
   ]
  },
  {
   "cell_type": "code",
   "execution_count": null,
   "metadata": {
    "colab": {
     "base_uri": "https://localhost:8080/",
     "height": 311
    },
    "id": "aX82kMjRHyBi",
    "outputId": "b60273ba-2d6c-4f8e-b0f2-54bd2a568657"
   },
   "outputs": [],
   "source": [
    "dummy_train.head()"
   ]
  },
  {
   "cell_type": "code",
   "execution_count": null,
   "metadata": {
    "colab": {
     "base_uri": "https://localhost:8080/"
    },
    "id": "GYlkgxlGH170",
    "outputId": "5366a684-7eaa-4b1b-cf86-9ab05ac8d0e2"
   },
   "outputs": [],
   "source": [
    "from sklearn.metrics.pairwise import pairwise_distances\n",
    "\n",
    "# Creating the User Similarity Matrix using pairwise_distance function.\n",
    "user_correlation = 1 - pairwise_distances(df_pivot_features, metric='cosine')\n",
    "user_correlation[np.isnan(user_correlation)] = 0\n",
    "print(user_correlation)"
   ]
  },
  {
   "cell_type": "code",
   "execution_count": null,
   "metadata": {
    "colab": {
     "base_uri": "https://localhost:8080/"
    },
    "id": "-bSzEtxuH7kR",
    "outputId": "5651c0c8-8823-4cfb-fc8c-5d73140db147"
   },
   "outputs": [],
   "source": [
    "user_correlation.shape"
   ]
  },
  {
   "cell_type": "code",
   "execution_count": null,
   "metadata": {
    "id": "lRDemPJksNH7"
   },
   "outputs": [],
   "source": [
    "df_pivot_features = train.pivot_table(\n",
    "    index='reviews_username',\n",
    "    columns='name',\n",
    "    values='reviews_rating'\n",
    ")"
   ]
  },
  {
   "cell_type": "code",
   "execution_count": null,
   "metadata": {
    "colab": {
     "base_uri": "https://localhost:8080/",
     "height": 311
    },
    "id": "L7mV-s9MsXS5",
    "outputId": "ef78366b-d1b8-4188-9e61-2662fe28e1ea"
   },
   "outputs": [],
   "source": [
    "df_pivot_features.head()"
   ]
  },
  {
   "cell_type": "code",
   "execution_count": null,
   "metadata": {
    "id": "lxQBDqyLsbor"
   },
   "outputs": [],
   "source": [
    "mean = np.nanmean(df_pivot_features, axis=1)\n",
    "df_subtracted = (df_pivot_features.T-mean).T\n"
   ]
  },
  {
   "cell_type": "code",
   "execution_count": null,
   "metadata": {
    "colab": {
     "base_uri": "https://localhost:8080/"
    },
    "id": "YCe-q-0OIjte",
    "outputId": "bf6c083f-663f-4d6e-a748-b15cedefc74d"
   },
   "outputs": [],
   "source": [
    "from sklearn.metrics.pairwise import pairwise_distances\n",
    "\n",
    "# Creating the User Similarity Matrix using pairwise_distance function.\n",
    "user_correlation = 1 - pairwise_distances(df_subtracted.fillna(0), metric='cosine')\n",
    "user_correlation[np.isnan(user_correlation)] = 0\n",
    "print(user_correlation)"
   ]
  },
  {
   "cell_type": "code",
   "execution_count": null,
   "metadata": {
    "colab": {
     "base_uri": "https://localhost:8080/"
    },
    "id": "ccmgtif7IpCS",
    "outputId": "5e43c1ae-f43f-4bc5-c9ae-31b7ca9a5b65"
   },
   "outputs": [],
   "source": [
    "# Prediction - User User\n",
    "user_correlation[user_correlation<0]=0\n",
    "user_correlation"
   ]
  },
  {
   "cell_type": "code",
   "execution_count": null,
   "metadata": {
    "colab": {
     "base_uri": "https://localhost:8080/"
    },
    "id": "Qmyk2otTIwQb",
    "outputId": "6be8e088-8f93-46a4-caae-3226bb3b7400"
   },
   "outputs": [],
   "source": [
    "user_predicted_ratings = np.dot(user_correlation, df_pivot_features.fillna(0))\n",
    "user_predicted_ratings"
   ]
  },
  {
   "cell_type": "code",
   "execution_count": null,
   "metadata": {
    "colab": {
     "base_uri": "https://localhost:8080/"
    },
    "id": "SadPKxPpI3PE",
    "outputId": "ca0a0a40-915c-4445-fe5c-31f0fb71dc15"
   },
   "outputs": [],
   "source": [
    "user_predicted_ratings.shape"
   ]
  },
  {
   "cell_type": "code",
   "execution_count": null,
   "metadata": {
    "colab": {
     "base_uri": "https://localhost:8080/",
     "height": 381
    },
    "id": "YeKuNjusI6G1",
    "outputId": "d052e05a-7ac1-47e9-ccb8-139dc48c15b6"
   },
   "outputs": [],
   "source": [
    "user_final_rating = np.multiply(user_predicted_ratings,dummy_train)\n",
    "user_final_rating.head()"
   ]
  },
  {
   "cell_type": "markdown",
   "metadata": {
    "id": "EsAyiVwsKPo-"
   },
   "source": [
    "TOP 5 Recommendation for the User"
   ]
  },
  {
   "cell_type": "code",
   "execution_count": null,
   "metadata": {
    "colab": {
     "base_uri": "https://localhost:8080/"
    },
    "id": "T34LtleQKK2_",
    "outputId": "650229eb-f42b-4c8b-d6ef-29bbd7fc1f39"
   },
   "outputs": [],
   "source": [
    "# Take the user ID as input.\n",
    "user_input = '02deuce'\n",
    "print(user_input)"
   ]
  },
  {
   "cell_type": "code",
   "execution_count": null,
   "metadata": {
    "colab": {
     "base_uri": "https://localhost:8080/"
    },
    "id": "1XiwkIRRKerd",
    "outputId": "117616b4-4dc2-49c8-dd66-6a9c665cace5"
   },
   "outputs": [],
   "source": [
    "d = user_final_rating.loc[user_input].sort_values(ascending=False)[0:5]   # SIMILARIRY \n",
    "d"
   ]
  },
  {
   "cell_type": "markdown",
   "metadata": {
    "id": "fU19AOYJQDZa"
   },
   "source": [
    "# MODEL EVALUATION"
   ]
  },
  {
   "cell_type": "code",
   "execution_count": null,
   "metadata": {
    "colab": {
     "base_uri": "https://localhost:8080/",
     "height": 197
    },
    "id": "6yKacvZGP-uY",
    "outputId": "5861bb03-b947-43fb-ca2e-ff72930afa67"
   },
   "outputs": [],
   "source": [
    "# Find out the common users of test and train dataset.\n",
    "common = test[test.reviews_username.isin(train['reviews_username'])]\n",
    "common.shape\n",
    "common.head()"
   ]
  },
  {
   "cell_type": "code",
   "execution_count": null,
   "metadata": {
    "id": "EUYoBxzrQcoe"
   },
   "outputs": [],
   "source": [
    "common_user_based_matrix = common.pivot_table(index='reviews_username', columns='name', values='reviews_rating')"
   ]
  },
  {
   "cell_type": "code",
   "execution_count": null,
   "metadata": {
    "colab": {
     "base_uri": "https://localhost:8080/",
     "height": 77
    },
    "id": "fJxTuOHEQlXk",
    "outputId": "beac5f55-abc2-42c9-b199-8bb703a4e6b6"
   },
   "outputs": [],
   "source": [
    "user_correlation_df = pd.DataFrame(user_correlation)\n",
    "\n",
    "df_subtracted.head(1)\n",
    "\n",
    "user_correlation_df['reviews_username'] = df_subtracted.index\n",
    "\n",
    "user_correlation_df.set_index('reviews_username',inplace=True)\n",
    "user_correlation_df.head()\n",
    "\n",
    "common.head(1)"
   ]
  },
  {
   "cell_type": "code",
   "execution_count": null,
   "metadata": {
    "id": "7A-Zg2UsQrjt"
   },
   "outputs": [],
   "source": [
    "list_name = common.reviews_username.tolist()"
   ]
  },
  {
   "cell_type": "code",
   "execution_count": null,
   "metadata": {
    "id": "_YF0FWNQQvJK"
   },
   "outputs": [],
   "source": [
    "user_correlation_df.columns = df_subtracted.index.tolist()"
   ]
  },
  {
   "cell_type": "code",
   "execution_count": null,
   "metadata": {
    "colab": {
     "base_uri": "https://localhost:8080/"
    },
    "id": "9M53o17NQ2vq",
    "outputId": "df71ab60-f8f3-4853-8f9c-22f1f637649c"
   },
   "outputs": [],
   "source": [
    "user_correlation_df_1 =  user_correlation_df[user_correlation_df.index.isin(list_name)]\n",
    "\n",
    "user_correlation_df_1.shape"
   ]
  },
  {
   "cell_type": "code",
   "execution_count": null,
   "metadata": {
    "colab": {
     "base_uri": "https://localhost:8080/"
    },
    "id": "QpR2VxtAScnT",
    "outputId": "d19adce7-f371-4cc1-9c5d-fdc93cceec83"
   },
   "outputs": [],
   "source": [
    "user_correlation_df_2 = user_correlation_df_1.T[user_correlation_df_1.T.index.isin(list_name)]\n",
    "\n",
    "user_correlation_df_3 = user_correlation_df_2.T\n",
    "\n",
    "user_correlation_df_3.head()\n",
    "\n",
    "user_correlation_df_3.shape"
   ]
  },
  {
   "cell_type": "code",
   "execution_count": null,
   "metadata": {
    "id": "pUbDXQ5aSlUy"
   },
   "outputs": [],
   "source": [
    "user_correlation_df_3[user_correlation_df_3<0]=0"
   ]
  },
  {
   "cell_type": "code",
   "execution_count": null,
   "metadata": {
    "colab": {
     "base_uri": "https://localhost:8080/"
    },
    "id": "wWvtq1RwSnsg",
    "outputId": "efbe3f90-dfa6-478d-c803-03f1652dcb0a"
   },
   "outputs": [],
   "source": [
    "common_user_predicted_ratings = np.dot(user_correlation_df_3, common_user_based_matrix.fillna(0))\n",
    "common_user_predicted_ratings"
   ]
  },
  {
   "cell_type": "code",
   "execution_count": null,
   "metadata": {
    "id": "y9gOERlPSubH"
   },
   "outputs": [],
   "source": [
    "dummy_test = common.copy()"
   ]
  },
  {
   "cell_type": "code",
   "execution_count": null,
   "metadata": {
    "colab": {
     "base_uri": "https://localhost:8080/",
     "height": 311
    },
    "id": "uNt67dPVSyEf",
    "outputId": "9916166b-6ff5-4937-ff67-e594ab3c0231"
   },
   "outputs": [],
   "source": [
    "dummy_test['reviews_rating'] = dummy_test['reviews_rating'].apply(lambda x: 1 if x>=1 else 0)\n",
    "\n",
    "dummy_test = dummy_test.pivot_table(index='reviews_username', columns='name', values='reviews_rating').fillna(0)\n",
    "\n",
    "dummy_test.shape\n",
    "\n",
    "common_user_based_matrix.head()\n",
    "\n",
    "dummy_test.head()\n",
    "\n",
    "common_user_predicted_ratings = np.multiply(common_user_predicted_ratings,dummy_test)\n",
    "\n",
    "common_user_predicted_ratings.head()"
   ]
  },
  {
   "cell_type": "code",
   "execution_count": null,
   "metadata": {
    "colab": {
     "base_uri": "https://localhost:8080/"
    },
    "id": "SGwX7g_cS010",
    "outputId": "de9aa00b-40f3-47e7-9c07-164ce5e82f99"
   },
   "outputs": [],
   "source": [
    "from sklearn.preprocessing import MinMaxScaler\n",
    "from numpy import *\n",
    "\n",
    "X  = common_user_predicted_ratings.copy() \n",
    "X = X[X>0]\n",
    "\n",
    "scaler = MinMaxScaler(feature_range=(1, 5))\n",
    "print(scaler.fit(X))\n",
    "y = (scaler.transform(X))\n",
    "\n",
    "print(y)\n"
   ]
  },
  {
   "cell_type": "code",
   "execution_count": null,
   "metadata": {
    "id": "_jAtX1CBmbk3"
   },
   "outputs": [],
   "source": [
    "common_ = common.pivot_table(index='reviews_username', columns='name', values='reviews_rating')"
   ]
  },
  {
   "cell_type": "code",
   "execution_count": null,
   "metadata": {
    "id": "yfspZt0zuG_Q"
   },
   "outputs": [],
   "source": [
    "# Finding total non-NaN value\n",
    "total_non_nan = np.count_nonzero(~np.isnan(y))\n"
   ]
  },
  {
   "cell_type": "code",
   "execution_count": null,
   "metadata": {
    "colab": {
     "base_uri": "https://localhost:8080/"
    },
    "id": "Tlsry2MWuK-c",
    "outputId": "d3a393f8-20e9-46b8-9ed4-1f66b0022c0c"
   },
   "outputs": [],
   "source": [
    "rmse = (sum(sum((common_ - y )**2))/total_non_nan)**0.5\n",
    "print(rmse)"
   ]
  },
  {
   "cell_type": "markdown",
   "metadata": {
    "id": "MRFdotsO2FLC"
   },
   "source": [
    "# Item Based Filtering"
   ]
  },
  {
   "cell_type": "code",
   "execution_count": null,
   "metadata": {
    "id": "N3c5oVxAyaMG"
   },
   "outputs": [],
   "source": [
    "df_pivot_item = train.pivot_table(\n",
    "    index='reviews_username',\n",
    "    columns='name',\n",
    "    values='reviews_rating'\n",
    ").T"
   ]
  },
  {
   "cell_type": "code",
   "execution_count": null,
   "metadata": {
    "colab": {
     "base_uri": "https://localhost:8080/",
     "height": 526
    },
    "id": "h5kbyuWH2XgQ",
    "outputId": "25a51f4c-7dd0-4cd5-8419-ed03da76bbc5"
   },
   "outputs": [],
   "source": [
    "df_pivot_item.head()"
   ]
  },
  {
   "cell_type": "code",
   "execution_count": null,
   "metadata": {
    "colab": {
     "base_uri": "https://localhost:8080/",
     "height": 526
    },
    "id": "eKCl7V4H2jlv",
    "outputId": "08106f81-23dd-46fc-c5b1-e93ba8283938"
   },
   "outputs": [],
   "source": [
    "mean = np.nanmean(df_pivot_item, axis=1)\n",
    "df_subtracted = (df_pivot_item.T-mean).T\n",
    "\n",
    "df_subtracted.head()"
   ]
  },
  {
   "cell_type": "code",
   "execution_count": null,
   "metadata": {
    "colab": {
     "base_uri": "https://localhost:8080/"
    },
    "id": "LFsrKOvP2sVV",
    "outputId": "06a3762e-88a9-409d-ffcd-8fcdb406c700"
   },
   "outputs": [],
   "source": [
    "from sklearn.metrics.pairwise import pairwise_distances\n",
    "\n",
    "# Item Similarity Matrix\n",
    "item_correlation = 1 - pairwise_distances(df_subtracted.fillna(0), metric='cosine')\n",
    "item_correlation[np.isnan(item_correlation)] = 0\n",
    "print(item_correlation)\n",
    "\n",
    "item_correlation.shape"
   ]
  },
  {
   "cell_type": "code",
   "execution_count": null,
   "metadata": {
    "colab": {
     "base_uri": "https://localhost:8080/"
    },
    "id": "UeiFNf_02xQB",
    "outputId": "0a55393b-d0ab-40b8-89d5-e5e8601d6cf5"
   },
   "outputs": [],
   "source": [
    "item_correlation[item_correlation<0]=0\n",
    "item_correlation"
   ]
  },
  {
   "cell_type": "code",
   "execution_count": null,
   "metadata": {
    "colab": {
     "base_uri": "https://localhost:8080/"
    },
    "id": "DXGWSNPM22wI",
    "outputId": "e0cd61d4-725e-405e-c529-3a7c0ea9401c"
   },
   "outputs": [],
   "source": [
    "item_predicted_ratings = np.dot((df_pivot_item.fillna(0).T),item_correlation)\n",
    "item_predicted_ratings\n",
    "\n",
    "item_predicted_ratings.shape\n",
    "\n",
    "dummy_train.shape"
   ]
  },
  {
   "cell_type": "code",
   "execution_count": null,
   "metadata": {
    "colab": {
     "base_uri": "https://localhost:8080/",
     "height": 311
    },
    "id": "Ilzv1SrY26j3",
    "outputId": "d8103da3-9395-465a-8736-789bbe69ffda"
   },
   "outputs": [],
   "source": [
    "item_final_rating = np.multiply(item_predicted_ratings,dummy_train)\n",
    "item_final_rating.head()"
   ]
  },
  {
   "cell_type": "markdown",
   "metadata": {
    "id": "HOiUoOyhLDvn"
   },
   "source": [
    "# Top 5 Recommendation for the User"
   ]
  },
  {
   "cell_type": "code",
   "execution_count": null,
   "metadata": {
    "colab": {
     "base_uri": "https://localhost:8080/"
    },
    "id": "OHj2mG03K8JG",
    "outputId": "39f7c939-4b86-42e2-a994-846c334eb713"
   },
   "outputs": [],
   "source": [
    "# Take the user ID as input\n",
    "user_input = input('Enter Username')\n",
    "print(user_input)"
   ]
  },
  {
   "cell_type": "code",
   "execution_count": null,
   "metadata": {
    "colab": {
     "base_uri": "https://localhost:8080/"
    },
    "id": "CkT6uE31LR6w",
    "outputId": "c2b51fa7-e0fc-4f04-8a1f-220ea2b5250b"
   },
   "outputs": [],
   "source": [
    "# Recommending the Top 5 products to the user.\n",
    "d = item_final_rating.loc[user_input].sort_values(ascending=False)[0:5]\n",
    "d"
   ]
  },
  {
   "cell_type": "markdown",
   "metadata": {
    "id": "SphVpSyF3Nl8"
   },
   "source": [
    "# Evaluation"
   ]
  },
  {
   "cell_type": "code",
   "execution_count": null,
   "metadata": {
    "colab": {
     "base_uri": "https://localhost:8080/"
    },
    "id": "APfDv6KE4GlQ",
    "outputId": "3d6440c0-c68a-4c29-8967-2ae0f6779707"
   },
   "outputs": [],
   "source": [
    "common =  test[test.name.isin(train.name)]\n",
    "common.shape"
   ]
  },
  {
   "cell_type": "code",
   "execution_count": null,
   "metadata": {
    "colab": {
     "base_uri": "https://localhost:8080/",
     "height": 167
    },
    "id": "VvqS9c8y4OHr",
    "outputId": "2bd925ff-46ca-40a5-ee81-584e16216529"
   },
   "outputs": [],
   "source": [
    "common.head(4)"
   ]
  },
  {
   "cell_type": "code",
   "execution_count": null,
   "metadata": {
    "colab": {
     "base_uri": "https://localhost:8080/"
    },
    "id": "B7mYuNBP4RUH",
    "outputId": "4e8f3089-069e-41a9-d745-59e0eb516939"
   },
   "outputs": [],
   "source": [
    "common_item_based_matrix = common.pivot_table(index='reviews_username', columns='name', values='reviews_rating').T\n",
    "\n",
    "common_item_based_matrix.shape"
   ]
  },
  {
   "cell_type": "code",
   "execution_count": null,
   "metadata": {
    "colab": {
     "base_uri": "https://localhost:8080/",
     "height": 77
    },
    "id": "KNsMdmAV4dpP",
    "outputId": "35b01143-d555-4c98-98d9-4b108ed54d9c"
   },
   "outputs": [],
   "source": [
    "item_correlation_df = pd.DataFrame(item_correlation)\n",
    "\n",
    "item_correlation_df.head(1)"
   ]
  },
  {
   "cell_type": "code",
   "execution_count": null,
   "metadata": {
    "colab": {
     "base_uri": "https://localhost:8080/",
     "height": 227
    },
    "id": "uGJwkwGO4h7-",
    "outputId": "546a5ac3-8819-48f8-af94-ef83df563d5a"
   },
   "outputs": [],
   "source": [
    "item_correlation_df['name'] = df_subtracted.index\n",
    "item_correlation_df.set_index('name',inplace=True)\n",
    "item_correlation_df.head()"
   ]
  },
  {
   "cell_type": "code",
   "execution_count": null,
   "metadata": {
    "id": "UgmVspgJ4pBJ"
   },
   "outputs": [],
   "source": [
    "list_name = common.name.tolist()"
   ]
  },
  {
   "cell_type": "code",
   "execution_count": null,
   "metadata": {
    "colab": {
     "base_uri": "https://localhost:8080/",
     "height": 714
    },
    "id": "sd7hseXD4vDp",
    "outputId": "175fc99a-f554-4702-f25f-8e92cd8fcc7d"
   },
   "outputs": [],
   "source": [
    "item_correlation_df.columns = df_subtracted.index.tolist()\n",
    "\n",
    "item_correlation_df_1 =  item_correlation_df[item_correlation_df.index.isin(list_name)]\n",
    "\n",
    "item_correlation_df_2 = item_correlation_df_1.T[item_correlation_df_1.T.index.isin(list_name)]\n",
    "\n",
    "item_correlation_df_3 = item_correlation_df_2.T\n",
    "\n",
    "item_correlation_df_3.head()"
   ]
  },
  {
   "cell_type": "code",
   "execution_count": null,
   "metadata": {
    "id": "8OxDASn64zeS"
   },
   "outputs": [],
   "source": [
    "item_correlation_df_3[item_correlation_df_3<0]=0"
   ]
  },
  {
   "cell_type": "code",
   "execution_count": null,
   "metadata": {
    "colab": {
     "base_uri": "https://localhost:8080/"
    },
    "id": "7fgCg78342Q4",
    "outputId": "1b749f6f-6c39-4064-c6b8-4602052af996"
   },
   "outputs": [],
   "source": [
    "common_item_predicted_ratings = np.dot(item_correlation_df_3, common_item_based_matrix.fillna(0))\n",
    "common_item_predicted_ratings"
   ]
  },
  {
   "cell_type": "code",
   "execution_count": null,
   "metadata": {
    "colab": {
     "base_uri": "https://localhost:8080/"
    },
    "id": "95p8Sv_-445K",
    "outputId": "5d31fc86-d669-4313-bd0f-0bcbc2f32763"
   },
   "outputs": [],
   "source": [
    "common_item_predicted_ratings.shape"
   ]
  },
  {
   "cell_type": "code",
   "execution_count": null,
   "metadata": {
    "id": "MAG1m-4747o5"
   },
   "outputs": [],
   "source": [
    "dummy_test = common.copy()\n",
    "\n",
    "dummy_test['reviews_rating'] = dummy_test['reviews_rating'].apply(lambda x: 1 if x>=1 else 0)\n",
    "\n",
    "dummy_test = dummy_test.pivot_table(index='reviews_username', columns='name', values='reviews_rating').T.fillna(0)\n",
    "\n",
    "common_item_predicted_ratings = np.multiply(common_item_predicted_ratings,dummy_test)"
   ]
  },
  {
   "cell_type": "code",
   "execution_count": null,
   "metadata": {
    "id": "4c29JBre5KT4"
   },
   "outputs": [],
   "source": [
    "common_ = common.pivot_table(index='reviews_username', columns='name', values='reviews_rating').T"
   ]
  },
  {
   "cell_type": "code",
   "execution_count": null,
   "metadata": {
    "colab": {
     "base_uri": "https://localhost:8080/"
    },
    "id": "AFCAg2A85Re1",
    "outputId": "b7f6be73-9e2c-4a7b-8657-9881fea5eb3f"
   },
   "outputs": [],
   "source": [
    "from sklearn.preprocessing import MinMaxScaler\n",
    "from numpy import *\n",
    "\n",
    "X  = common_item_predicted_ratings.copy() \n",
    "X = X[X>0]\n",
    "\n",
    "scaler = MinMaxScaler(feature_range=(1, 5))\n",
    "print(scaler.fit(X))\n",
    "y = (scaler.transform(X))\n",
    "\n",
    "print(y)\n"
   ]
  },
  {
   "cell_type": "code",
   "execution_count": null,
   "metadata": {
    "id": "9fIRmtQG5cOV"
   },
   "outputs": [],
   "source": [
    "# Finding total non-NaN value\n",
    "total_non_nan = np.count_nonzero(~np.isnan(y))"
   ]
  },
  {
   "cell_type": "code",
   "execution_count": null,
   "metadata": {
    "colab": {
     "base_uri": "https://localhost:8080/"
    },
    "id": "d95EJsP65gZq",
    "outputId": "25840e38-b35b-4900-db64-d28122260fd4"
   },
   "outputs": [],
   "source": [
    "rmse = (sum(sum((common_ - y )**2))/total_non_nan)**0.5\n",
    "print(rmse)"
   ]
  },
  {
   "cell_type": "markdown",
   "metadata": {},
   "source": [
    "## As we can see that we get more RMSE with item based filtering so we will take this item based for recommendation approach.\n",
    "## Also In Model Building we see that we have more accuracy in Random Forest with smote so we will apply RF for model Building."
   ]
  },
  {
   "cell_type": "markdown",
   "metadata": {},
   "source": [
    "# EOF"
   ]
  }
 ],
 "metadata": {
  "accelerator": "GPU",
  "colab": {
   "collapsed_sections": [],
   "name": "Setiment Based .ipynb",
   "provenance": []
  },
  "kernelspec": {
   "display_name": "Python 3",
   "language": "python",
   "name": "python3"
  },
  "language_info": {
   "codemirror_mode": {
    "name": "ipython",
    "version": 3
   },
   "file_extension": ".py",
   "mimetype": "text/x-python",
   "name": "python",
   "nbconvert_exporter": "python",
   "pygments_lexer": "ipython3",
   "version": "3.7.4"
  }
 },
 "nbformat": 4,
 "nbformat_minor": 1
}

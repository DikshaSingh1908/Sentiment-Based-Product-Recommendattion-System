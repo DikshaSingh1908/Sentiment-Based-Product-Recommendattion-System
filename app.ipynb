{
 "cells": [
  {
   "cell_type": "code",
   "execution_count": 1,
   "metadata": {},
   "outputs": [],
   "source": [
    "import numpy as np\n",
    "import pandas as pd\n",
    "from flask import Flask, request, jsonify, render_template\n",
    "import pickle"
   ]
  },
  {
   "cell_type": "code",
   "execution_count": 2,
   "metadata": {},
   "outputs": [],
   "source": [
    "app = Flask(__name__)\n",
    "rf_model = pickle.load(open('rf_model.pkl', 'rb'))\n",
    "recommender = pickle.load(open('recommender.pkl', 'rb'))\n",
    "df = pickle.load(open('data.pkl', 'rb'))\n",
    "vectorizer = pickle.load(open('tfidf_vect.pkl', 'rb'))"
   ]
  },
  {
   "cell_type": "code",
   "execution_count": 3,
   "metadata": {},
   "outputs": [],
   "source": [
    "@app.route('/')\n",
    "def home():\n",
    "    return render_template('index.html')"
   ]
  },
  {
   "cell_type": "code",
   "execution_count": 4,
   "metadata": {},
   "outputs": [],
   "source": [
    "@app.route('/predict',methods=['POST'])\n",
    "def predict():\n",
    "    '''\n",
    "    For rendering results on HTML GUI\n",
    "    '''\n",
    "    int_features = [x for x in request.form.values()]\n",
    "    final_features = int_features[0]\n",
    "    if final_features in recommender.index:\n",
    "        d = recommender.loc[final_features].sort_values(ascending=False)[0:20] \n",
    "        out_df = d.to_frame()\n",
    "        output = fineTune(out_df.index)\n",
    "        output.index = np.arange(1, len(output) + 1)\n",
    "        return render_template('index.html', prediction_text='Top 5 Recommended products are :',\n",
    "        tables=[output.to_html(classes='data',header=False)], titles=output.columns.values)\n",
    "    else:\n",
    "        return render_template('index.html', prediction_text='Username not found ')"
   ]
  },
  {
   "cell_type": "code",
   "execution_count": 5,
   "metadata": {},
   "outputs": [],
   "source": [
    "def fineTune(product_list,top=5):\n",
    "    sample_data = df[df['name'].isin(product_list)][['review','name']].copy()\n",
    "    #Using the vectorizer to transform the review data \n",
    "    sample_data_vect = vectorizer.transform(sample_data['review'])\n",
    "    #Predicting sentiment using the final LogReg model\n",
    "    sample_data['pred_sentiment'] = rf_model.predict(sample_data_vect)\n",
    "    #Sorting based on the percentage positive sentiment\n",
    "    final_out = sample_data.groupby(by='name').mean().sort_values('pred_sentiment',ascending=False)[:top]\n",
    "    return pd.DataFrame(final_out.index).rename(columns={'name':'Product Name'})"
   ]
  },
  {
   "cell_type": "code",
   "execution_count": 6,
   "metadata": {},
   "outputs": [
    {
     "name": "stdout",
     "output_type": "stream",
     "text": [
      " * Serving Flask app \"__main__\" (lazy loading)\n",
      " * Environment: production\n",
      "   WARNING: This is a development server. Do not use it in a production deployment.\n",
      "   Use a production WSGI server instead.\n",
      " * Debug mode: on\n"
     ]
    },
    {
     "name": "stderr",
     "output_type": "stream",
     "text": [
      " * Restarting with stat\n"
     ]
    },
    {
     "ename": "SystemExit",
     "evalue": "1",
     "output_type": "error",
     "traceback": [
      "An exception has occurred, use %tb to see the full traceback.\n",
      "\u001b[1;31mSystemExit\u001b[0m\u001b[1;31m:\u001b[0m 1\n"
     ]
    },
    {
     "name": "stderr",
     "output_type": "stream",
     "text": [
      "C:\\Users\\MAhaDev\\Anaconda3\\lib\\site-packages\\IPython\\core\\interactiveshell.py:3334: UserWarning: To exit: use 'exit', 'quit', or Ctrl-D.\n",
      "  warn(\"To exit: use 'exit', 'quit', or Ctrl-D.\", stacklevel=1)\n"
     ]
    }
   ],
   "source": [
    "if __name__ == \"__main__\":\n",
    "    app.run(debug=True)"
   ]
  },
  {
   "cell_type": "code",
   "execution_count": null,
   "metadata": {},
   "outputs": [],
   "source": []
  }
 ],
 "metadata": {
  "kernelspec": {
   "display_name": "Python 3",
   "language": "python",
   "name": "python3"
  },
  "language_info": {
   "codemirror_mode": {
    "name": "ipython",
    "version": 3
   },
   "file_extension": ".py",
   "mimetype": "text/x-python",
   "name": "python",
   "nbconvert_exporter": "python",
   "pygments_lexer": "ipython3",
   "version": "3.7.4"
  }
 },
 "nbformat": 4,
 "nbformat_minor": 2
}
